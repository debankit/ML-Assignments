{
 "cells": [
  {
   "cell_type": "code",
   "execution_count": 5,
   "source": [
    "import requests\r\n",
    "from numpy import genfromtxt\r\n",
    "import pandas as pd\r\n",
    "import matplotlib.pyplot as plt\r\n",
    "import numpy as np\r\n",
    "\r\n",
    "download_url = \"https://archive.ics.uci.edu/ml/machine-learning-databases/iris/iris.data\"\r\n",
    "target_csv_path = \"perceptron_data.csv\"\r\n",
    "\r\n",
    "response = requests.get(download_url)\r\n",
    "response.raise_for_status()    # Check that the request was successful\r\n",
    "with open(target_csv_path, \"wb\") as f:\r\n",
    "    f.write(response.content)\r\n",
    "print(\"Download ready.\")\r\n"
   ],
   "outputs": [],
   "metadata": {}
  },
  {
   "cell_type": "code",
   "execution_count": 6,
   "source": [
    "# We have changed the label of the downloaded file to -1 and +1.\r\n",
    "my_data = genfromtxt('perceptron_data.csv', delimiter=',')\r\n",
    "data_transpose = my_data.T\r\n",
    "y = data_transpose[len(data_transpose)-1].astype(int)\r\n",
    "\r\n",
    "w = np.zeros(len(data_transpose)-1)\r\n",
    "bias = 0\r\n",
    "learning_rate = 000.1\r\n",
    "max_iteration = 20"
   ],
   "outputs": [],
   "metadata": {}
  },
  {
   "cell_type": "code",
   "execution_count": 7,
   "source": [
    "def vanilla_perceptron(y,data, w, bias, max_iteration):\r\n",
    "    for k in range(1, max_iteration):\r\n",
    "        for i in range(len(data)):\r\n",
    "            a = 0\r\n",
    "            for j in range(len(data[i])-1):\r\n",
    "                a += data[i][j] * w[j]\r\n",
    "            output = bias + a\r\n",
    "            if y[i] * output <= 0:\r\n",
    "                for j in range(len(w)):\r\n",
    "                    w[j] = w[j] + (y[i]* data[i][j])\r\n",
    "                bias = bias + y[i]\r\n",
    "        print(\"For epoch\", k, \"w and b \", w, bias)\r\n",
    "        \r\n",
    "    return w, bias"
   ],
   "outputs": [],
   "metadata": {}
  },
  {
   "cell_type": "code",
   "execution_count": 8,
   "source": [
    "w, bias = vanilla_perceptron(y,my_data, w, bias, max_iteration)"
   ],
   "outputs": [
    {
     "output_type": "stream",
     "name": "stdout",
     "text": [
      "For epoch 1 w and b  [-1.9  0.3 -3.3 -1.2] 0\n",
      "For epoch 2 w and b  [-3.8  0.6 -6.6 -2.4] 0\n",
      "For epoch 3 w and b  [ 1.3  4.1 -5.2 -2.2] 1\n",
      "For epoch 4 w and b  [ 1.3  4.1 -5.2 -2.2] 1\n",
      "For epoch 5 w and b  [ 1.3  4.1 -5.2 -2.2] 1\n",
      "For epoch 6 w and b  [ 1.3  4.1 -5.2 -2.2] 1\n",
      "For epoch 7 w and b  [ 1.3  4.1 -5.2 -2.2] 1\n",
      "For epoch 8 w and b  [ 1.3  4.1 -5.2 -2.2] 1\n",
      "For epoch 9 w and b  [ 1.3  4.1 -5.2 -2.2] 1\n",
      "For epoch 10 w and b  [ 1.3  4.1 -5.2 -2.2] 1\n",
      "For epoch 11 w and b  [ 1.3  4.1 -5.2 -2.2] 1\n",
      "For epoch 12 w and b  [ 1.3  4.1 -5.2 -2.2] 1\n",
      "For epoch 13 w and b  [ 1.3  4.1 -5.2 -2.2] 1\n",
      "For epoch 14 w and b  [ 1.3  4.1 -5.2 -2.2] 1\n",
      "For epoch 15 w and b  [ 1.3  4.1 -5.2 -2.2] 1\n",
      "For epoch 16 w and b  [ 1.3  4.1 -5.2 -2.2] 1\n",
      "For epoch 17 w and b  [ 1.3  4.1 -5.2 -2.2] 1\n",
      "For epoch 18 w and b  [ 1.3  4.1 -5.2 -2.2] 1\n",
      "For epoch 19 w and b  [ 1.3  4.1 -5.2 -2.2] 1\n"
     ]
    }
   ],
   "metadata": {}
  }
 ],
 "metadata": {
  "orig_nbformat": 4,
  "language_info": {
   "name": "python",
   "version": "3.8.10",
   "mimetype": "text/x-python",
   "codemirror_mode": {
    "name": "ipython",
    "version": 3
   },
   "pygments_lexer": "ipython3",
   "nbconvert_exporter": "python",
   "file_extension": ".py"
  },
  "kernelspec": {
   "name": "python3",
   "display_name": "Python 3.8.10 64-bit"
  },
  "interpreter": {
   "hash": "1baa965d5efe3ac65b79dfc60c0d706280b1da80fedb7760faf2759126c4f253"
  }
 },
 "nbformat": 4,
 "nbformat_minor": 2
}